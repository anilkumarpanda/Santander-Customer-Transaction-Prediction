{
  "nbformat": 4,
  "nbformat_minor": 0,
  "metadata": {
    "colab": {
      "name": "Kaggle Satander.ipynb",
      "version": "0.3.2",
      "provenance": [],
      "collapsed_sections": [],
      "include_colab_link": true
    },
    "kernelspec": {
      "name": "python3",
      "display_name": "Python 3"
    }
  },
  "cells": [
    {
      "cell_type": "markdown",
      "metadata": {
        "id": "view-in-github",
        "colab_type": "text"
      },
      "source": [
        "<a href=\"https://colab.research.google.com/github/anilkumarpanda/Santander-Customer-Transaction-Prediction/blob/master/Kaggle_Satander.ipynb\" target=\"_parent\"><img src=\"https://colab.research.google.com/assets/colab-badge.svg\" alt=\"Open In Colab\"/></a>"
      ]
    },
    {
      "metadata": {
        "id": "b-QADrYZcYO-",
        "colab_type": "code",
        "outputId": "a7829da4-e245-43d0-fd46-99dbab63b6ff",
        "colab": {
          "base_uri": "https://localhost:8080/",
          "height": 204
        }
      },
      "cell_type": "code",
      "source": [
        "#Install Kaggle Packages\n",
        "#!pip install kaggle\n",
        "!pip install catboost"
      ],
      "execution_count": 0,
      "outputs": [
        {
          "output_type": "stream",
          "text": [
            "Collecting catboost\n",
            "\u001b[?25l  Downloading https://files.pythonhosted.org/packages/3e/62/b442e8d747e8a34ac8a981f7a4ff717c1f887aedb42c3f670660bda41af5/catboost-0.13.1-cp36-none-manylinux1_x86_64.whl (60.1MB)\n",
            "\u001b[K    100% |████████████████████████████████| 60.1MB 535kB/s \n",
            "\u001b[?25hRequirement already satisfied: six in /usr/local/lib/python3.6/dist-packages (from catboost) (1.11.0)\n",
            "Requirement already satisfied: enum34 in /usr/local/lib/python3.6/dist-packages (from catboost) (1.1.6)\n",
            "Requirement already satisfied: pandas>=0.19.1 in /usr/local/lib/python3.6/dist-packages (from catboost) (0.22.0)\n",
            "Requirement already satisfied: numpy>=1.11.1 in /usr/local/lib/python3.6/dist-packages (from catboost) (1.14.6)\n",
            "Requirement already satisfied: pytz>=2011k in /usr/local/lib/python3.6/dist-packages (from pandas>=0.19.1->catboost) (2018.9)\n",
            "Requirement already satisfied: python-dateutil>=2 in /usr/local/lib/python3.6/dist-packages (from pandas>=0.19.1->catboost) (2.5.3)\n",
            "Installing collected packages: catboost\n",
            "Successfully installed catboost-0.13.1\n"
          ],
          "name": "stdout"
        }
      ]
    },
    {
      "metadata": {
        "id": "ORYRk5o_dkJm",
        "colab_type": "code",
        "colab": {}
      },
      "cell_type": "code",
      "source": [
        "#Import Keys\n",
        "#!mv /root/kaggle.json /root/.kaggle/\n",
        "#!chmod 600 /root/.kaggle/kaggle.json\n",
        "#Download Datasets\n",
        "#!kaggle competitions download -c santander-customer-transaction-prediction\n",
        "#!unzip test.csv.zip\n",
        "#!unzip train.csv.zip\n",
        "#!rm -rf *.zip\n",
        "!mkdir data\n",
        "!mv *.csv data/"
      ],
      "execution_count": 0,
      "outputs": []
    },
    {
      "metadata": {
        "id": "HVJ-bO09ahCv",
        "colab_type": "code",
        "colab": {}
      },
      "cell_type": "code",
      "source": [
        "import pandas as pd"
      ],
      "execution_count": 0,
      "outputs": []
    },
    {
      "metadata": {
        "id": "0ypTNxhfapL_",
        "colab_type": "code",
        "outputId": "bfac986d-bc23-4e7a-feaf-248f499ab265",
        "colab": {
          "base_uri": "https://localhost:8080/",
          "height": 51
        }
      },
      "cell_type": "code",
      "source": [
        "print(\"Hello Google\")\n",
        "pwd=!pwd\n",
        "print(\"Working in directory {}\".format(pwd))"
      ],
      "execution_count": 0,
      "outputs": [
        {
          "output_type": "stream",
          "text": [
            "Hello Google\n",
            "Working in directory ['/content']\n"
          ],
          "name": "stdout"
        }
      ]
    },
    {
      "metadata": {
        "id": "qw0Ph51-asjD",
        "colab_type": "code",
        "colab": {}
      },
      "cell_type": "code",
      "source": [
        "from sklearn.model_selection import train_test_split\n",
        "from sklearn.model_selection import StratifiedKFold\n",
        "from sklearn.ensemble import RandomForestClassifier\n",
        "from sklearn.tree import DecisionTreeClassifier\n",
        "from catboost import CatBoostClassifier,Pool\n",
        "from IPython.display import display\n",
        "import matplotlib.patches as patch\n",
        "import matplotlib.pyplot as plt\n",
        "from sklearn.svm import NuSVR\n",
        "from scipy.stats import norm\n",
        "from sklearn import svm\n",
        "import lightgbm as lgb\n",
        "import xgboost as xgb\n",
        "import seaborn as sns\n",
        "import pandas as pd\n",
        "import numpy as np\n",
        "import warnings\n",
        "import time\n",
        "import glob\n",
        "import sys\n",
        "import os\n",
        "import gc\n",
        "\n",
        "%matplotlib inline\n",
        "import matplotlib.pyplot as plt\n",
        "import seaborn as sns; sns.set()  # for plot styling\n",
        "import numpy as np\n",
        "\n",
        "from pandas import read_csv\n",
        "from numpy import set_printoptions\n",
        "from sklearn.preprocessing import MinMaxScaler"
      ],
      "execution_count": 0,
      "outputs": []
    },
    {
      "metadata": {
        "id": "Wt2raDJbbp-H",
        "colab_type": "code",
        "colab": {}
      },
      "cell_type": "code",
      "source": [
        "# for get better result chage fold_n to 5\n",
        "fold_n=5\n",
        "folds = StratifiedKFold(n_splits=fold_n, shuffle=True, random_state=10)\n",
        "%matplotlib inline\n",
        "%precision 4\n",
        "warnings.filterwarnings('ignore')\n",
        "plt.style.use('ggplot')\n",
        "np.set_printoptions(suppress=True)\n",
        "pd.set_option(\"display.precision\", 15)"
      ],
      "execution_count": 0,
      "outputs": []
    },
    {
      "metadata": {
        "id": "cgrL9BPHktJy",
        "colab_type": "code",
        "outputId": "2f2e3130-8d0e-4a18-a062-33ede44d7fc9",
        "colab": {
          "base_uri": "https://localhost:8080/",
          "height": 34
        }
      },
      "cell_type": "code",
      "source": [
        "print(os.listdir(\"data/\"))\n",
        "# import Dataset to play with it\n",
        "train= pd.read_csv(\"data/train.csv\")\n",
        "test = pd.read_csv('data/test.csv')"
      ],
      "execution_count": 34,
      "outputs": [
        {
          "output_type": "stream",
          "text": [
            "['train.csv', 'sample_submission.csv', 'test.csv']\n"
          ],
          "name": "stdout"
        }
      ]
    },
    {
      "metadata": {
        "id": "Fp6LqsTVkz1t",
        "colab_type": "code",
        "colab": {
          "base_uri": "https://localhost:8080/",
          "height": 204
        },
        "outputId": "dc5bd526-cf17-474a-9094-4e1600492ae7"
      },
      "cell_type": "code",
      "source": [
        "sample_submission = pd.read_csv('data/sample_submission.csv')\n",
        "sample_submission.head()"
      ],
      "execution_count": 35,
      "outputs": [
        {
          "output_type": "execute_result",
          "data": {
            "text/html": [
              "<div>\n",
              "<style scoped>\n",
              "    .dataframe tbody tr th:only-of-type {\n",
              "        vertical-align: middle;\n",
              "    }\n",
              "\n",
              "    .dataframe tbody tr th {\n",
              "        vertical-align: top;\n",
              "    }\n",
              "\n",
              "    .dataframe thead th {\n",
              "        text-align: right;\n",
              "    }\n",
              "</style>\n",
              "<table border=\"1\" class=\"dataframe\">\n",
              "  <thead>\n",
              "    <tr style=\"text-align: right;\">\n",
              "      <th></th>\n",
              "      <th>ID_code</th>\n",
              "      <th>target</th>\n",
              "    </tr>\n",
              "  </thead>\n",
              "  <tbody>\n",
              "    <tr>\n",
              "      <th>0</th>\n",
              "      <td>test_0</td>\n",
              "      <td>0</td>\n",
              "    </tr>\n",
              "    <tr>\n",
              "      <th>1</th>\n",
              "      <td>test_1</td>\n",
              "      <td>0</td>\n",
              "    </tr>\n",
              "    <tr>\n",
              "      <th>2</th>\n",
              "      <td>test_2</td>\n",
              "      <td>0</td>\n",
              "    </tr>\n",
              "    <tr>\n",
              "      <th>3</th>\n",
              "      <td>test_3</td>\n",
              "      <td>0</td>\n",
              "    </tr>\n",
              "    <tr>\n",
              "      <th>4</th>\n",
              "      <td>test_4</td>\n",
              "      <td>0</td>\n",
              "    </tr>\n",
              "  </tbody>\n",
              "</table>\n",
              "</div>"
            ],
            "text/plain": [
              "  ID_code  target\n",
              "0  test_0       0\n",
              "1  test_1       0\n",
              "2  test_2       0\n",
              "3  test_3       0\n",
              "4  test_4       0"
            ]
          },
          "metadata": {
            "tags": []
          },
          "execution_count": 35
        }
      ]
    },
    {
      "metadata": {
        "id": "a3y1BsJxlLna",
        "colab_type": "code",
        "colab": {
          "base_uri": "https://localhost:8080/",
          "height": 34
        },
        "outputId": "02476958-0e02-4a12-d4e4-593f2dbecc54"
      },
      "cell_type": "code",
      "source": [
        "train.shape, test.shape, sample_submission.shape"
      ],
      "execution_count": 36,
      "outputs": [
        {
          "output_type": "execute_result",
          "data": {
            "text/plain": [
              "((200000, 202), (200000, 201), (200000, 2))"
            ]
          },
          "metadata": {
            "tags": []
          },
          "execution_count": 36
        }
      ]
    },
    {
      "metadata": {
        "id": "VKXkEJMqlPe2",
        "colab_type": "code",
        "colab": {
          "base_uri": "https://localhost:8080/",
          "height": 346
        },
        "outputId": "a27ffa3a-0d43-47f3-ee13-b51757ef02a6"
      },
      "cell_type": "code",
      "source": [
        "train.describe()"
      ],
      "execution_count": 37,
      "outputs": [
        {
          "output_type": "execute_result",
          "data": {
            "text/html": [
              "<div>\n",
              "<style scoped>\n",
              "    .dataframe tbody tr th:only-of-type {\n",
              "        vertical-align: middle;\n",
              "    }\n",
              "\n",
              "    .dataframe tbody tr th {\n",
              "        vertical-align: top;\n",
              "    }\n",
              "\n",
              "    .dataframe thead th {\n",
              "        text-align: right;\n",
              "    }\n",
              "</style>\n",
              "<table border=\"1\" class=\"dataframe\">\n",
              "  <thead>\n",
              "    <tr style=\"text-align: right;\">\n",
              "      <th></th>\n",
              "      <th>target</th>\n",
              "      <th>var_0</th>\n",
              "      <th>var_1</th>\n",
              "      <th>var_2</th>\n",
              "      <th>var_3</th>\n",
              "      <th>var_4</th>\n",
              "      <th>var_5</th>\n",
              "      <th>var_6</th>\n",
              "      <th>var_7</th>\n",
              "      <th>var_8</th>\n",
              "      <th>...</th>\n",
              "      <th>var_190</th>\n",
              "      <th>var_191</th>\n",
              "      <th>var_192</th>\n",
              "      <th>var_193</th>\n",
              "      <th>var_194</th>\n",
              "      <th>var_195</th>\n",
              "      <th>var_196</th>\n",
              "      <th>var_197</th>\n",
              "      <th>var_198</th>\n",
              "      <th>var_199</th>\n",
              "    </tr>\n",
              "  </thead>\n",
              "  <tbody>\n",
              "    <tr>\n",
              "      <th>count</th>\n",
              "      <td>200000.000000000000000</td>\n",
              "      <td>200000.000000000000000</td>\n",
              "      <td>200000.000000000000000</td>\n",
              "      <td>200000.000000000000000</td>\n",
              "      <td>200000.000000000000000</td>\n",
              "      <td>200000.000000000000000</td>\n",
              "      <td>200000.000000000000000</td>\n",
              "      <td>200000.000000000000000</td>\n",
              "      <td>200000.000000000000000</td>\n",
              "      <td>200000.000000000000000</td>\n",
              "      <td>...</td>\n",
              "      <td>200000.000000000000000</td>\n",
              "      <td>200000.000000000000000</td>\n",
              "      <td>200000.00000000000000</td>\n",
              "      <td>200000.000000000000000</td>\n",
              "      <td>200000.000000000000000</td>\n",
              "      <td>200000.000000000000000</td>\n",
              "      <td>200000.000000000000000</td>\n",
              "      <td>200000.000000000000000</td>\n",
              "      <td>200000.000000000000000</td>\n",
              "      <td>200000.000000000000000</td>\n",
              "    </tr>\n",
              "    <tr>\n",
              "      <th>mean</th>\n",
              "      <td>0.100490000000000</td>\n",
              "      <td>10.679914252000151</td>\n",
              "      <td>-1.627621689499992</td>\n",
              "      <td>10.715191851000073</td>\n",
              "      <td>6.796529157000018</td>\n",
              "      <td>11.078333240500118</td>\n",
              "      <td>-5.065317493499968</td>\n",
              "      <td>5.408948681499958</td>\n",
              "      <td>16.545849889500108</td>\n",
              "      <td>0.284161849999996</td>\n",
              "      <td>...</td>\n",
              "      <td>3.234439775999965</td>\n",
              "      <td>7.438408337000044</td>\n",
              "      <td>1.92783851400003</td>\n",
              "      <td>3.331773684500021</td>\n",
              "      <td>17.993784182999992</td>\n",
              "      <td>-0.142088433500005</td>\n",
              "      <td>2.303335243500019</td>\n",
              "      <td>8.908157683499990</td>\n",
              "      <td>15.870720248000522</td>\n",
              "      <td>-3.326536900499999</td>\n",
              "    </tr>\n",
              "    <tr>\n",
              "      <th>std</th>\n",
              "      <td>0.300652975806355</td>\n",
              "      <td>3.040050870668801</td>\n",
              "      <td>4.050044189955011</td>\n",
              "      <td>2.640894191799927</td>\n",
              "      <td>2.043319016359718</td>\n",
              "      <td>1.623149533936866</td>\n",
              "      <td>7.863266683476754</td>\n",
              "      <td>0.866607266216908</td>\n",
              "      <td>3.418075578937139</td>\n",
              "      <td>3.332633536717585</td>\n",
              "      <td>...</td>\n",
              "      <td>4.559921679910722</td>\n",
              "      <td>3.023271794723963</td>\n",
              "      <td>1.47842289233660</td>\n",
              "      <td>3.992030367901846</td>\n",
              "      <td>3.135161996426620</td>\n",
              "      <td>1.429372364408401</td>\n",
              "      <td>5.454369250069321</td>\n",
              "      <td>0.921625484493855</td>\n",
              "      <td>3.010945491221765</td>\n",
              "      <td>10.438015107352546</td>\n",
              "    </tr>\n",
              "    <tr>\n",
              "      <th>min</th>\n",
              "      <td>0.000000000000000</td>\n",
              "      <td>0.408400000000000</td>\n",
              "      <td>-15.043400000000000</td>\n",
              "      <td>2.117100000000000</td>\n",
              "      <td>-0.040200000000000</td>\n",
              "      <td>5.074800000000000</td>\n",
              "      <td>-32.562600000000003</td>\n",
              "      <td>2.347300000000000</td>\n",
              "      <td>5.349700000000000</td>\n",
              "      <td>-10.505500000000000</td>\n",
              "      <td>...</td>\n",
              "      <td>-14.093299999999999</td>\n",
              "      <td>-2.691700000000000</td>\n",
              "      <td>-3.81450000000000</td>\n",
              "      <td>-11.783400000000000</td>\n",
              "      <td>8.694400000000000</td>\n",
              "      <td>-5.261000000000000</td>\n",
              "      <td>-14.209600000000000</td>\n",
              "      <td>5.960600000000000</td>\n",
              "      <td>6.299300000000000</td>\n",
              "      <td>-38.852800000000002</td>\n",
              "    </tr>\n",
              "    <tr>\n",
              "      <th>25%</th>\n",
              "      <td>0.000000000000000</td>\n",
              "      <td>8.453850000000001</td>\n",
              "      <td>-4.740025000000000</td>\n",
              "      <td>8.722474999999999</td>\n",
              "      <td>5.254075000000000</td>\n",
              "      <td>9.883175000000000</td>\n",
              "      <td>-11.200350000000000</td>\n",
              "      <td>4.767700000000000</td>\n",
              "      <td>13.943800000000000</td>\n",
              "      <td>-2.317800000000000</td>\n",
              "      <td>...</td>\n",
              "      <td>-0.058825000000000</td>\n",
              "      <td>5.157400000000000</td>\n",
              "      <td>0.88977500000000</td>\n",
              "      <td>0.584600000000000</td>\n",
              "      <td>15.629799999999999</td>\n",
              "      <td>-1.170700000000000</td>\n",
              "      <td>-1.946925000000000</td>\n",
              "      <td>8.252800000000001</td>\n",
              "      <td>13.829700000000001</td>\n",
              "      <td>-11.208475000000000</td>\n",
              "    </tr>\n",
              "    <tr>\n",
              "      <th>50%</th>\n",
              "      <td>0.000000000000000</td>\n",
              "      <td>10.524750000000001</td>\n",
              "      <td>-1.608050000000000</td>\n",
              "      <td>10.580000000000000</td>\n",
              "      <td>6.825000000000000</td>\n",
              "      <td>11.108250000000000</td>\n",
              "      <td>-4.833150000000000</td>\n",
              "      <td>5.385100000000000</td>\n",
              "      <td>16.456800000000001</td>\n",
              "      <td>0.393700000000000</td>\n",
              "      <td>...</td>\n",
              "      <td>3.203600000000000</td>\n",
              "      <td>7.347750000000000</td>\n",
              "      <td>1.90130000000000</td>\n",
              "      <td>3.396350000000000</td>\n",
              "      <td>17.957949999999997</td>\n",
              "      <td>-0.172700000000000</td>\n",
              "      <td>2.408900000000000</td>\n",
              "      <td>8.888199999999999</td>\n",
              "      <td>15.934050000000001</td>\n",
              "      <td>-2.819550000000000</td>\n",
              "    </tr>\n",
              "    <tr>\n",
              "      <th>75%</th>\n",
              "      <td>0.000000000000000</td>\n",
              "      <td>12.758200000000000</td>\n",
              "      <td>1.358625000000000</td>\n",
              "      <td>12.516700000000000</td>\n",
              "      <td>8.324100000000000</td>\n",
              "      <td>12.261125000000002</td>\n",
              "      <td>0.924800000000000</td>\n",
              "      <td>6.002999999999999</td>\n",
              "      <td>19.102900000000002</td>\n",
              "      <td>2.937900000000000</td>\n",
              "      <td>...</td>\n",
              "      <td>6.406200000000000</td>\n",
              "      <td>9.512525000000000</td>\n",
              "      <td>2.94950000000000</td>\n",
              "      <td>6.205800000000000</td>\n",
              "      <td>20.396524999999997</td>\n",
              "      <td>0.829600000000000</td>\n",
              "      <td>6.556725000000000</td>\n",
              "      <td>9.593299999999999</td>\n",
              "      <td>18.064724999999999</td>\n",
              "      <td>4.836800000000000</td>\n",
              "    </tr>\n",
              "    <tr>\n",
              "      <th>max</th>\n",
              "      <td>1.000000000000000</td>\n",
              "      <td>20.315000000000001</td>\n",
              "      <td>10.376799999999999</td>\n",
              "      <td>19.352999999999998</td>\n",
              "      <td>13.188300000000000</td>\n",
              "      <td>16.671399999999998</td>\n",
              "      <td>17.251600000000000</td>\n",
              "      <td>8.447699999999999</td>\n",
              "      <td>27.691800000000001</td>\n",
              "      <td>10.151300000000001</td>\n",
              "      <td>...</td>\n",
              "      <td>18.440899999999999</td>\n",
              "      <td>16.716500000000000</td>\n",
              "      <td>8.40240000000000</td>\n",
              "      <td>18.281800000000000</td>\n",
              "      <td>27.928799999999999</td>\n",
              "      <td>4.272900000000000</td>\n",
              "      <td>18.321500000000000</td>\n",
              "      <td>12.000400000000001</td>\n",
              "      <td>26.079100000000000</td>\n",
              "      <td>28.500699999999998</td>\n",
              "    </tr>\n",
              "  </tbody>\n",
              "</table>\n",
              "<p>8 rows × 201 columns</p>\n",
              "</div>"
            ],
            "text/plain": [
              "                       target                   var_0                   var_1  \\\n",
              "count  200000.000000000000000  200000.000000000000000  200000.000000000000000   \n",
              "mean        0.100490000000000      10.679914252000151      -1.627621689499992   \n",
              "std         0.300652975806355       3.040050870668801       4.050044189955011   \n",
              "min         0.000000000000000       0.408400000000000     -15.043400000000000   \n",
              "25%         0.000000000000000       8.453850000000001      -4.740025000000000   \n",
              "50%         0.000000000000000      10.524750000000001      -1.608050000000000   \n",
              "75%         0.000000000000000      12.758200000000000       1.358625000000000   \n",
              "max         1.000000000000000      20.315000000000001      10.376799999999999   \n",
              "\n",
              "                        var_2                   var_3                   var_4  \\\n",
              "count  200000.000000000000000  200000.000000000000000  200000.000000000000000   \n",
              "mean       10.715191851000073       6.796529157000018      11.078333240500118   \n",
              "std         2.640894191799927       2.043319016359718       1.623149533936866   \n",
              "min         2.117100000000000      -0.040200000000000       5.074800000000000   \n",
              "25%         8.722474999999999       5.254075000000000       9.883175000000000   \n",
              "50%        10.580000000000000       6.825000000000000      11.108250000000000   \n",
              "75%        12.516700000000000       8.324100000000000      12.261125000000002   \n",
              "max        19.352999999999998      13.188300000000000      16.671399999999998   \n",
              "\n",
              "                        var_5                   var_6                   var_7  \\\n",
              "count  200000.000000000000000  200000.000000000000000  200000.000000000000000   \n",
              "mean       -5.065317493499968       5.408948681499958      16.545849889500108   \n",
              "std         7.863266683476754       0.866607266216908       3.418075578937139   \n",
              "min       -32.562600000000003       2.347300000000000       5.349700000000000   \n",
              "25%       -11.200350000000000       4.767700000000000      13.943800000000000   \n",
              "50%        -4.833150000000000       5.385100000000000      16.456800000000001   \n",
              "75%         0.924800000000000       6.002999999999999      19.102900000000002   \n",
              "max        17.251600000000000       8.447699999999999      27.691800000000001   \n",
              "\n",
              "                        var_8           ...                           var_190  \\\n",
              "count  200000.000000000000000           ...            200000.000000000000000   \n",
              "mean        0.284161849999996           ...                 3.234439775999965   \n",
              "std         3.332633536717585           ...                 4.559921679910722   \n",
              "min       -10.505500000000000           ...               -14.093299999999999   \n",
              "25%        -2.317800000000000           ...                -0.058825000000000   \n",
              "50%         0.393700000000000           ...                 3.203600000000000   \n",
              "75%         2.937900000000000           ...                 6.406200000000000   \n",
              "max        10.151300000000001           ...                18.440899999999999   \n",
              "\n",
              "                      var_191                var_192                 var_193  \\\n",
              "count  200000.000000000000000  200000.00000000000000  200000.000000000000000   \n",
              "mean        7.438408337000044       1.92783851400003       3.331773684500021   \n",
              "std         3.023271794723963       1.47842289233660       3.992030367901846   \n",
              "min        -2.691700000000000      -3.81450000000000     -11.783400000000000   \n",
              "25%         5.157400000000000       0.88977500000000       0.584600000000000   \n",
              "50%         7.347750000000000       1.90130000000000       3.396350000000000   \n",
              "75%         9.512525000000000       2.94950000000000       6.205800000000000   \n",
              "max        16.716500000000000       8.40240000000000      18.281800000000000   \n",
              "\n",
              "                      var_194                 var_195                 var_196  \\\n",
              "count  200000.000000000000000  200000.000000000000000  200000.000000000000000   \n",
              "mean       17.993784182999992      -0.142088433500005       2.303335243500019   \n",
              "std         3.135161996426620       1.429372364408401       5.454369250069321   \n",
              "min         8.694400000000000      -5.261000000000000     -14.209600000000000   \n",
              "25%        15.629799999999999      -1.170700000000000      -1.946925000000000   \n",
              "50%        17.957949999999997      -0.172700000000000       2.408900000000000   \n",
              "75%        20.396524999999997       0.829600000000000       6.556725000000000   \n",
              "max        27.928799999999999       4.272900000000000      18.321500000000000   \n",
              "\n",
              "                      var_197                 var_198                 var_199  \n",
              "count  200000.000000000000000  200000.000000000000000  200000.000000000000000  \n",
              "mean        8.908157683499990      15.870720248000522      -3.326536900499999  \n",
              "std         0.921625484493855       3.010945491221765      10.438015107352546  \n",
              "min         5.960600000000000       6.299300000000000     -38.852800000000002  \n",
              "25%         8.252800000000001      13.829700000000001     -11.208475000000000  \n",
              "50%         8.888199999999999      15.934050000000001      -2.819550000000000  \n",
              "75%         9.593299999999999      18.064724999999999       4.836800000000000  \n",
              "max        12.000400000000001      26.079100000000000      28.500699999999998  \n",
              "\n",
              "[8 rows x 201 columns]"
            ]
          },
          "metadata": {
            "tags": []
          },
          "execution_count": 37
        }
      ]
    },
    {
      "metadata": {
        "id": "dYUhc-yjlRXl",
        "colab_type": "code",
        "colab": {}
      },
      "cell_type": "code",
      "source": [
        "#Based on this great kernel https://www.kaggle.com/arjanso/reducing-dataframe-memory-size-by-65\n",
        "def reduce_mem_usage(df):\n",
        "    start_mem_usg = df.memory_usage().sum() / 1024**2 \n",
        "    print(\"Memory usage of properties dataframe is :\",start_mem_usg,\" MB\")\n",
        "    NAlist = [] # Keeps track of columns that have missing values filled in. \n",
        "    for col in df.columns:\n",
        "        if df[col].dtype != object:  # Exclude strings\n",
        "            \n",
        "            # Print current column type\n",
        "            #print(\"******************************\")\n",
        "            #print(\"Column: \",col)\n",
        "            #print(\"dtype before: \",df[col].dtype)\n",
        "            \n",
        "            # make variables for Int, max and min\n",
        "            IsInt = False\n",
        "            mx = df[col].max()\n",
        "            mn = df[col].min()\n",
        "            \n",
        "            # Integer does not support NA, therefore, NA needs to be filled\n",
        "            if not np.isfinite(df[col]).all(): \n",
        "                NAlist.append(col)\n",
        "                df[col].fillna(mn-1,inplace=True)  \n",
        "                   \n",
        "            # test if column can be converted to an integer\n",
        "            asint = df[col].fillna(0).astype(np.int64)\n",
        "            result = (df[col] - asint)\n",
        "            result = result.sum()\n",
        "            if result > -0.01 and result < 0.01:\n",
        "                IsInt = True\n",
        "\n",
        "            \n",
        "            # Make Integer/unsigned Integer datatypes\n",
        "            if IsInt:\n",
        "                if mn >= 0:\n",
        "                    if mx < 255:\n",
        "                        df[col] = df[col].astype(np.uint8)\n",
        "                    elif mx < 65535:\n",
        "                        df[col] = df[col].astype(np.uint16)\n",
        "                    elif mx < 4294967295:\n",
        "                        df[col] = df[col].astype(np.uint32)\n",
        "                    else:\n",
        "                        df[col] = df[col].astype(np.uint64)\n",
        "                else:\n",
        "                    if mn > np.iinfo(np.int8).min and mx < np.iinfo(np.int8).max:\n",
        "                        df[col] = df[col].astype(np.int8)\n",
        "                    elif mn > np.iinfo(np.int16).min and mx < np.iinfo(np.int16).max:\n",
        "                        df[col] = df[col].astype(np.int16)\n",
        "                    elif mn > np.iinfo(np.int32).min and mx < np.iinfo(np.int32).max:\n",
        "                        df[col] = df[col].astype(np.int32)\n",
        "                    elif mn > np.iinfo(np.int64).min and mx < np.iinfo(np.int64).max:\n",
        "                        df[col] = df[col].astype(np.int64)    \n",
        "            \n",
        "            # Make float datatypes 32 bit\n",
        "            else:\n",
        "                df[col] = df[col].astype(np.float32)\n",
        "            \n",
        "            # Print new column type\n",
        "            #print(\"dtype after: \",df[col].dtype)\n",
        "            #print(\"******************************\")\n",
        "    \n",
        "    # Print final result\n",
        "    print(\"___MEMORY USAGE AFTER COMPLETION:___\")\n",
        "    mem_usg = df.memory_usage().sum() / 1024**2 \n",
        "    print(\"Memory usage is: \",mem_usg,\" MB\")\n",
        "    print(\"This is \",100*mem_usg/start_mem_usg,\"% of the initial size\")\n",
        "    return df, NAlist\n",
        "\n",
        "def check_missing_data(df):\n",
        "    flag=df.isna().sum().any()\n",
        "    if flag==True:\n",
        "        total = df.isnull().sum()\n",
        "        percent = (df.isnull().sum())/(df.isnull().count()*100)\n",
        "        output = pd.concat([total, percent], axis=1, keys=['Total', 'Percent'])\n",
        "        data_type = []\n",
        "        # written by MJ Bahmani\n",
        "        for col in df.columns:\n",
        "            dtype = str(df[col].dtype)\n",
        "            data_type.append(dtype)\n",
        "        output['Types'] = data_type\n",
        "        return(np.transpose(output))\n",
        "    else:\n",
        "        return(False)"
      ],
      "execution_count": 0,
      "outputs": []
    },
    {
      "metadata": {
        "id": "YL8rJM5plYnM",
        "colab_type": "code",
        "colab": {
          "base_uri": "https://localhost:8080/",
          "height": 187
        },
        "outputId": "61203ddd-e399-4d54-c621-349ce4017923"
      },
      "cell_type": "code",
      "source": [
        "train, NAlist = reduce_mem_usage(train)\n",
        "print(\"_________________\")\n",
        "print(\"\")\n",
        "print(\"Warning: the following columns have missing values filled with 'df['column_name'].min() -1': \")\n",
        "print(\"_________________\")\n",
        "print(\"\")\n",
        "print(NAlist)"
      ],
      "execution_count": 39,
      "outputs": [
        {
          "output_type": "stream",
          "text": [
            "Memory usage of properties dataframe is : 308.2276153564453  MB\n",
            "___MEMORY USAGE AFTER COMPLETION:___\n",
            "Memory usage is:  154.30458068847656  MB\n",
            "This is  50.06189354903625 % of the initial size\n",
            "_________________\n",
            "\n",
            "Warning: the following columns have missing values filled with 'df['column_name'].min() -1': \n",
            "_________________\n",
            "\n",
            "[]\n"
          ],
          "name": "stdout"
        }
      ]
    },
    {
      "metadata": {
        "id": "seTujKcylbcW",
        "colab_type": "code",
        "colab": {
          "base_uri": "https://localhost:8080/",
          "height": 187
        },
        "outputId": "8c57e5d0-546e-4a36-a046-791184976621"
      },
      "cell_type": "code",
      "source": [
        "test, NAlist = reduce_mem_usage(test)\n",
        "print(\"_________________\")\n",
        "print(\"\")\n",
        "print(\"Warning: the following columns have missing values filled with 'df['column_name'].min() -1': \")\n",
        "print(\"_________________\")\n",
        "print(\"\")\n",
        "print(NAlist)"
      ],
      "execution_count": 40,
      "outputs": [
        {
          "output_type": "stream",
          "text": [
            "Memory usage of properties dataframe is : 306.7017364501953  MB\n",
            "___MEMORY USAGE AFTER COMPLETION:___\n",
            "Memory usage is:  154.1138458251953  MB\n",
            "This is  50.248768594833685 % of the initial size\n",
            "_________________\n",
            "\n",
            "Warning: the following columns have missing values filled with 'df['column_name'].min() -1': \n",
            "_________________\n",
            "\n",
            "[]\n"
          ],
          "name": "stdout"
        }
      ]
    },
    {
      "metadata": {
        "id": "ba2Sxqijled7",
        "colab_type": "code",
        "colab": {
          "base_uri": "https://localhost:8080/",
          "height": 34
        },
        "outputId": "7c288559-4ee9-4a96-964e-4ce5b1e6a7d9"
      },
      "cell_type": "code",
      "source": [
        "check_missing_data(train)\n",
        "check_missing_data(test)"
      ],
      "execution_count": 42,
      "outputs": [
        {
          "output_type": "execute_result",
          "data": {
            "text/plain": [
              "False"
            ]
          },
          "metadata": {
            "tags": []
          },
          "execution_count": 42
        }
      ]
    },
    {
      "metadata": {
        "id": "iRdcbsJqljxb",
        "colab_type": "code",
        "colab": {}
      },
      "cell_type": "code",
      "source": [
        ""
      ],
      "execution_count": 0,
      "outputs": []
    },
    {
      "metadata": {
        "id": "3mhmT58oltpi",
        "colab_type": "text"
      },
      "cell_type": "markdown",
      "source": [
        "Prepare Data for Modelling"
      ]
    },
    {
      "metadata": {
        "id": "_Sc6H0Aalwpk",
        "colab_type": "code",
        "colab": {}
      },
      "cell_type": "code",
      "source": [
        "#Divide into train and test\n",
        "cols=[\"target\",\"ID_code\"]\n",
        "X = train.drop(cols,axis=1)\n",
        "y = train[\"target\"]\n",
        "X_test  = test.drop(\"ID_code\",axis=1)\n",
        "\n",
        "validation_size = 0.20\n",
        "seed = 33\n",
        "\n",
        "scaler = MinMaxScaler(feature_range=(0, 1))\n",
        "rescaledX = scaler.fit_transform(X)\n",
        "\n",
        "X_train, X_test, y_train, y_test = train_test_split(rescaledX,y,test_size=validation_size,random_state=seed)"
      ],
      "execution_count": 0,
      "outputs": []
    },
    {
      "metadata": {
        "id": "71zJsgsBlyiB",
        "colab_type": "code",
        "colab": {
          "base_uri": "https://localhost:8080/",
          "height": 343
        },
        "outputId": "9024ddae-7a92-4e1f-ddd4-51669af0d05a"
      },
      "cell_type": "code",
      "source": [
        "y_train.value_counts().plot.bar();"
      ],
      "execution_count": 48,
      "outputs": [
        {
          "output_type": "display_data",
          "data": {
            "image/png": "[encoded data removed]",
            "text/plain": [
              "<Figure size 576x396 with 1 Axes>"
            ]
          },
          "metadata": {
            "tags": []
          }
        }
      ]
    },
    {
      "metadata": {
        "id": "9h_rr40yl0-9",
        "colab_type": "code",
        "colab": {
          "base_uri": "https://localhost:8080/",
          "height": 343
        },
        "outputId": "b9be1929-e2f7-4e02-d6a9-288a0cf34f0b"
      },
      "cell_type": "code",
      "source": [
        "y_test.value_counts().plot.bar();"
      ],
      "execution_count": 49,
      "outputs": [
        {
          "output_type": "display_data",
          "data": {
            "image/png": "[encoded data removed]",
            "text/plain": [
              "<Figure size 576x396 with 1 Axes>"
            ]
          },
          "metadata": {
            "tags": []
          }
        }
      ]
    },
    {
      "metadata": {
        "id": "qa2d7BOvmGGf",
        "colab_type": "code",
        "colab": {}
      },
      "cell_type": "code",
      "source": [
        ""
      ],
      "execution_count": 0,
      "outputs": []
    },
    {
      "metadata": {
        "id": "u0r1_ltcmLUr",
        "colab_type": "text"
      },
      "cell_type": "markdown",
      "source": [
        "## KMeans Clustering to find clusters of similar customers ."
      ]
    },
    {
      "metadata": {
        "id": "2XMWx1O-mUG6",
        "colab_type": "code",
        "colab": {
          "base_uri": "https://localhost:8080/",
          "height": 51
        },
        "outputId": "c5c19759-a8c5-4b4b-dfc0-b70e4e5fe46c"
      },
      "cell_type": "code",
      "source": [
        "from sklearn.cluster import KMeans\n",
        "Sum_of_squared_distances = []\n",
        "K = range(16,40,2)\n",
        "for k in K:\n",
        "    print(\"Using K {} clusters\".format(k))\n",
        "    if k in [20,26,32]:\n",
        "      plt.plot(K, Sum_of_squared_distances,'bx-')\n",
        "      plt.xlabel('k')\n",
        "      plt.ylabel('Sum_of_squared_distances')\n",
        "      plt.title('Elbow Method For Optimal k')\n",
        "      plt.show()\n",
        "    km = KMeans(n_clusters=k)\n",
        "    km = km.fit(rescaledX)\n",
        "    Sum_of_squared_distances.append(km.inertia_)"
      ],
      "execution_count": 0,
      "outputs": [
        {
          "output_type": "stream",
          "text": [
            "Using K 16 clusters\n",
            "Using K 18 clusters\n"
          ],
          "name": "stdout"
        }
      ]
    },
    {
      "metadata": {
        "id": "Oe7kOZwGmwfs",
        "colab_type": "code",
        "colab": {}
      },
      "cell_type": "code",
      "source": [
        ""
      ],
      "execution_count": 0,
      "outputs": []
    }
  ]
}