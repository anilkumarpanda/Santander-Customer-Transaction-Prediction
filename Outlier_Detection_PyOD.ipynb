{
  "nbformat": 4,
  "nbformat_minor": 0,
  "metadata": {
    "colab": {
      "name": "Outlier Detection PyOD",
      "version": "0.3.2",
      "provenance": [],
      "include_colab_link": true
    },
    "kernelspec": {
      "name": "python3",
      "display_name": "Python 3"
    }
  },
  "cells": [
    {
      "cell_type": "markdown",
      "metadata": {
        "id": "view-in-github",
        "colab_type": "text"
      },
      "source": [
        "<a href=\"https://colab.research.google.com/github/anilkumarpanda/Santander-Customer-Transaction-Prediction/blob/master/Outlier_Detection_PyOD.ipynb\" target=\"_parent\"><img src=\"https://colab.research.google.com/assets/colab-badge.svg\" alt=\"Open In Colab\"/></a>"
      ]
    },
    {
      "metadata": {
        "id": "qgN-B-8Itig-",
        "colab_type": "code",
        "colab": {
          "base_uri": "https://localhost:8080/",
          "height": 374
        },
        "outputId": "a27ee998-a542-49f6-a57e-605575f5870c"
      },
      "cell_type": "code",
      "source": [
        "!pip install pyod"
      ],
      "execution_count": 1,
      "outputs": [
        {
          "output_type": "stream",
          "text": [
            "Collecting pyod\n",
            "\u001b[?25l  Downloading https://files.pythonhosted.org/packages/6e/43/58619a5f5e29fc28642fbd381b465b2f48d97da2b1a0aba3052d110b2232/pyod-0.6.8.tar.gz (73kB)\n",
            "\u001b[K    100% |████████████████████████████████| 81kB 3.0MB/s \n",
            "\u001b[?25hRequirement already satisfied: matplotlib in /usr/local/lib/python3.6/dist-packages (from pyod) (3.0.3)\n",
            "Requirement already satisfied: numpy>=1.13 in /usr/local/lib/python3.6/dist-packages (from pyod) (1.14.6)\n",
            "Requirement already satisfied: numba>=0.35 in /usr/local/lib/python3.6/dist-packages (from pyod) (0.40.1)\n",
            "Requirement already satisfied: scipy>=0.19.1 in /usr/local/lib/python3.6/dist-packages (from pyod) (1.1.0)\n",
            "Requirement already satisfied: scikit_learn>=0.19.1 in /usr/local/lib/python3.6/dist-packages (from pyod) (0.20.3)\n",
            "Requirement already satisfied: pyparsing!=2.0.4,!=2.1.2,!=2.1.6,>=2.0.1 in /usr/local/lib/python3.6/dist-packages (from matplotlib->pyod) (2.3.1)\n",
            "Requirement already satisfied: python-dateutil>=2.1 in /usr/local/lib/python3.6/dist-packages (from matplotlib->pyod) (2.5.3)\n",
            "Requirement already satisfied: cycler>=0.10 in /usr/local/lib/python3.6/dist-packages (from matplotlib->pyod) (0.10.0)\n",
            "Requirement already satisfied: kiwisolver>=1.0.1 in /usr/local/lib/python3.6/dist-packages (from matplotlib->pyod) (1.0.1)\n",
            "Requirement already satisfied: llvmlite>=0.25.0dev0 in /usr/local/lib/python3.6/dist-packages (from numba>=0.35->pyod) (0.28.0)\n",
            "Requirement already satisfied: six>=1.5 in /usr/local/lib/python3.6/dist-packages (from python-dateutil>=2.1->matplotlib->pyod) (1.11.0)\n",
            "Requirement already satisfied: setuptools in /usr/local/lib/python3.6/dist-packages (from kiwisolver>=1.0.1->matplotlib->pyod) (40.8.0)\n",
            "Building wheels for collected packages: pyod\n",
            "  Building wheel for pyod (setup.py) ... \u001b[?25ldone\n",
            "\u001b[?25h  Stored in directory: /root/.cache/pip/wheels/af/5b/a8/db41636737f746250b4134e9a12a95aa24feef4ecc3e871b0b\n",
            "Successfully built pyod\n",
            "Installing collected packages: pyod\n",
            "Successfully installed pyod-0.6.8\n"
          ],
          "name": "stdout"
        }
      ]
    },
    {
      "metadata": {
        "id": "EqyM9n9VtvsW",
        "colab_type": "code",
        "colab": {}
      },
      "cell_type": "code",
      "source": [
        "# Import models\n",
        "from pyod.models.abod import ABOD\n",
        "from pyod.models.cblof import CBLOF\n",
        "from pyod.models.feature_bagging import FeatureBagging\n",
        "from pyod.models.hbos import HBOS\n",
        "from pyod.models.iforest import IForest\n",
        "from pyod.models.knn import KNN\n",
        "from pyod.models.lof import LOF\n",
        "import os\n",
        "import pandas as pd\n",
        "from sklearn.model_selection import train_test_split\n",
        "from sklearn.model_selection import StratifiedKFold\n",
        "from sklearn.ensemble import RandomForestClassifier\n",
        "from sklearn.tree import DecisionTreeClassifier\n",
        "from catboost import CatBoostClassifier,Pool\n",
        "from IPython.display import display\n",
        "import matplotlib.patches as patch\n",
        "import matplotlib.pyplot as plt\n",
        "from sklearn.svm import NuSVR\n",
        "from scipy.stats import norm\n",
        "from sklearn import svm\n",
        "import lightgbm as lgb\n",
        "import xgboost as xgb\n",
        "import seaborn as sns\n",
        "import pandas as pd\n",
        "import numpy as np\n",
        "import warnings\n",
        "import time\n",
        "import glob\n",
        "import sys\n",
        "import os\n",
        "import gc\n"
      ],
      "execution_count": 0,
      "outputs": []
    },
    {
      "metadata": {
        "id": "z1LM-bH3yRmd",
        "colab_type": "code",
        "colab": {
          "base_uri": "https://localhost:8080/",
          "height": 34
        },
        "outputId": "fe0ce3a8-2cfd-490a-94bc-1cd27a3dec28"
      },
      "cell_type": "code",
      "source": [
        "print(os.listdir(\"data/\"))\n",
        "# import Dataset to play with it\n",
        "train= pd.read_csv(\"data/train.csv\")\n",
        "test = pd.read_csv('data/test.csv')"
      ],
      "execution_count": 11,
      "outputs": [
        {
          "output_type": "stream",
          "text": [
            "['train.csv', 'sample_submission.csv', 'test.csv']\n"
          ],
          "name": "stdout"
        }
      ]
    },
    {
      "metadata": {
        "id": "s4pbOSlDye8p",
        "colab_type": "code",
        "colab": {
          "base_uri": "https://localhost:8080/",
          "height": 34
        },
        "outputId": "7c328cad-6985-4ead-a7ce-02d39c5a10ce"
      },
      "cell_type": "code",
      "source": [
        "#Divide into train and test\n",
        "from pandas import read_csv\n",
        "from numpy import set_printoptions\n",
        "from sklearn.preprocessing import MinMaxScaler\n",
        "cols=[\"target\",\"ID_code\"]\n",
        "X = train.drop(cols,axis=1)\n",
        "y = train[\"target\"]\n",
        "X_test  = test.drop(\"ID_code\",axis=1)\n",
        "\n",
        "validation_size = 0.20\n",
        "seed = 33\n",
        "\n",
        "scaler = MinMaxScaler(feature_range=(0, 1))\n",
        "rescaledX = scaler.fit_transform(X)\n",
        "\n",
        "X_train, X_test, y_train, y_test = train_test_split(rescaledX,y,test_size=validation_size,random_state=seed)\n",
        "X_train.shape,X_test.shape"
      ],
      "execution_count": 12,
      "outputs": [
        {
          "output_type": "execute_result",
          "data": {
            "text/plain": [
              "((160000, 200), (40000, 200))"
            ]
          },
          "metadata": {
            "tags": []
          },
          "execution_count": 12
        }
      ]
    },
    {
      "metadata": {
        "id": "PsKgyUrAysjv",
        "colab_type": "code",
        "colab": {}
      },
      "cell_type": "code",
      "source": [
        "from sklearn.decomposition import PCA\n",
        "pca = PCA(n_components=4).fit(rescaledX)\n",
        "pca_nx = pca.transform(rescaledX)"
      ],
      "execution_count": 0,
      "outputs": []
    },
    {
      "metadata": {
        "id": "r2hI-IMVzheF",
        "colab_type": "code",
        "colab": {
          "base_uri": "https://localhost:8080/",
          "height": 204
        },
        "outputId": "2a8d7461-c98b-4863-bb7c-7cef4474cbcb"
      },
      "cell_type": "code",
      "source": [
        "pca_df = pd.DataFrame(data=pca_nx,columns=['pca_1','pca_2','pca_3','pca_4'])\n",
        "\n",
        "pca_df.head()"
      ],
      "execution_count": 48,
      "outputs": [
        {
          "output_type": "execute_result",
          "data": {
            "text/html": [
              "<div>\n",
              "<style scoped>\n",
              "    .dataframe tbody tr th:only-of-type {\n",
              "        vertical-align: middle;\n",
              "    }\n",
              "\n",
              "    .dataframe tbody tr th {\n",
              "        vertical-align: top;\n",
              "    }\n",
              "\n",
              "    .dataframe thead th {\n",
              "        text-align: right;\n",
              "    }\n",
              "</style>\n",
              "<table border=\"1\" class=\"dataframe\">\n",
              "  <thead>\n",
              "    <tr style=\"text-align: right;\">\n",
              "      <th></th>\n",
              "      <th>pca_1</th>\n",
              "      <th>pca_2</th>\n",
              "      <th>pca_3</th>\n",
              "      <th>pca_4</th>\n",
              "    </tr>\n",
              "  </thead>\n",
              "  <tbody>\n",
              "    <tr>\n",
              "      <th>0</th>\n",
              "      <td>0.018013664164505</td>\n",
              "      <td>-0.025755592466444</td>\n",
              "      <td>-0.415965158128451</td>\n",
              "      <td>-0.044392308248081</td>\n",
              "    </tr>\n",
              "    <tr>\n",
              "      <th>1</th>\n",
              "      <td>0.248578723545490</td>\n",
              "      <td>-0.196295182480967</td>\n",
              "      <td>-0.025412630839243</td>\n",
              "      <td>-0.050199374050031</td>\n",
              "    </tr>\n",
              "    <tr>\n",
              "      <th>2</th>\n",
              "      <td>0.195983016901804</td>\n",
              "      <td>-0.112595104500651</td>\n",
              "      <td>-0.224711410179849</td>\n",
              "      <td>-0.219370248498425</td>\n",
              "    </tr>\n",
              "    <tr>\n",
              "      <th>3</th>\n",
              "      <td>-0.202067883392939</td>\n",
              "      <td>0.086090368627794</td>\n",
              "      <td>0.273961892881527</td>\n",
              "      <td>-0.220738169818783</td>\n",
              "    </tr>\n",
              "    <tr>\n",
              "      <th>4</th>\n",
              "      <td>-0.184335456774243</td>\n",
              "      <td>0.200632568889781</td>\n",
              "      <td>-0.040996052657104</td>\n",
              "      <td>0.094185400977954</td>\n",
              "    </tr>\n",
              "  </tbody>\n",
              "</table>\n",
              "</div>"
            ],
            "text/plain": [
              "               pca_1              pca_2              pca_3              pca_4\n",
              "0  0.018013664164505 -0.025755592466444 -0.415965158128451 -0.044392308248081\n",
              "1  0.248578723545490 -0.196295182480967 -0.025412630839243 -0.050199374050031\n",
              "2  0.195983016901804 -0.112595104500651 -0.224711410179849 -0.219370248498425\n",
              "3 -0.202067883392939  0.086090368627794  0.273961892881527 -0.220738169818783\n",
              "4 -0.184335456774243  0.200632568889781 -0.040996052657104  0.094185400977954"
            ]
          },
          "metadata": {
            "tags": []
          },
          "execution_count": 48
        }
      ]
    },
    {
      "metadata": {
        "id": "dfZLXQ0t3YY0",
        "colab_type": "code",
        "colab": {
          "base_uri": "https://localhost:8080/",
          "height": 51
        },
        "outputId": "e3d65724-840c-4791-95fb-91c9a07b0c3b"
      },
      "cell_type": "code",
      "source": [
        "# Prepare Data for Isolatation Forests\n",
        "pca_df = pd.DataFrame(data=pca_nx,columns=['pca_1','pca_2','pca_3','pca_4'])\n",
        "pca_df.head()\n",
        "pca_df['target']=y\n",
        "\n",
        "y_0 = train.loc[train['target']==0]\n",
        "y_0 = y_0['target']\n",
        "print(y_0.shape)\n",
        "\n",
        "X_isf_0 =  pca_df.loc[pca_df['target']==0]\n",
        "X_isf_0 = X_isf_0.drop('target',axis=1)\n",
        "print(X_isf_0.shape)\n",
        "X_isf_1 =  pca_df.loc[pca_df['target']==1]\n",
        "X_isf_1 = X_isf_1.drop('target',axis=1)\n",
        "\n",
        "\n"
      ],
      "execution_count": 66,
      "outputs": [
        {
          "output_type": "stream",
          "text": [
            "(179902,)\n",
            "(179902, 4)\n"
          ],
          "name": "stdout"
        }
      ]
    },
    {
      "metadata": {
        "id": "br0zraJT1NIh",
        "colab_type": "code",
        "colab": {}
      },
      "cell_type": "code",
      "source": [
        "import numpy as np\n",
        "import matplotlib.pyplot as plt\n",
        "from sklearn.ensemble import IsolationForest\n",
        "\n",
        "rng = np.random.RandomState(42)\n",
        "\n",
        "X_train, X_test, y_train, y_test = train_test_split(X_isf_0,y_0,test_size=validation_size,random_state=seed)\n",
        "\n",
        "# #X_train.shape,X_test.shape\n",
        "# # Generate train data\n",
        "# X = 0.3 * rng.randn(100, 2)\n",
        "# X_train = np.r_[X + 2, X - 2]\n",
        "# # Generate some regular novel observations\n",
        "# X = 0.3 * rng.randn(20, 2)\n",
        "# X_test = np.r_[X + 2, X - 2]\n",
        "# Generate some abnormal novel observations\n",
        "X_outliers = X_isf_1\n",
        "\n",
        "# fit the model\n",
        "clf = IsolationForest(behaviour='new', max_samples=100,\n",
        "                      random_state=rng, contamination='auto')\n",
        "clf.fit(X_train)\n",
        "\n",
        "y_pred_train = clf.predict(X_train)\n",
        "y_pred_test = clf.predict(X_test)\n",
        "y_pred_outliers = clf.predict(X_outliers)\n",
        "\n",
        "# # plot the line, the samples, and the nearest vectors to the plane\n",
        "# xx, yy = np.meshgrid(np.linspace(-5, 5, 50), np.linspace(-5, 5, 50))\n",
        "# Z = clf.decision_function(np.c_[xx.ravel(), yy.ravel()])\n",
        "# Z = Z.reshape(xx.shape)\n",
        "\n",
        "# plt.title(\"IsolationForest\")\n",
        "# plt.contourf(xx, yy, Z, cmap=plt.cm.Blues_r)\n",
        "\n",
        "# b1 = plt.scatter(X_train[:, 0], X_train[:, 1], c='white',s=20, edgecolor='k')\n",
        "# b2 = plt.scatter(X_test[:, 0], X_test[:, 1], c='green',s=20, edgecolor='k')\n",
        "# c = plt.scatter(X_outliers[:, 0], X_outliers[:, 1], c='red',s=20, edgecolor='k')\n",
        "\n",
        "# plt.axis('tight')\n",
        "# plt.xlim((-5, 5))\n",
        "# plt.ylim((-5, 5))\n",
        "# plt.legend([b1, b2, c],\n",
        "#            [\"training observations\",\n",
        "#             \"new regular observations\", \"new abnormal observations\"],\n",
        "#            loc=\"upper left\")\n",
        "# plt.show()"
      ],
      "execution_count": 0,
      "outputs": []
    },
    {
      "metadata": {
        "id": "_Jf-4fC18CYB",
        "colab_type": "code",
        "colab": {
          "base_uri": "https://localhost:8080/",
          "height": 102
        },
        "outputId": "756f974d-08da-4787-eeca-e1a595d6c1ea"
      },
      "cell_type": "code",
      "source": [
        "print(y_pred_train.shape)\n",
        "print(y_pred_test.shape)\n",
        "print(y_pred_outliers.shape)\n",
        "\n",
        "prediction_df = pd.DataFrame()\n",
        "\n",
        "prediction_df['y_pred_train'] = y_pred_train\n",
        "prediction_df['y_train'] = y_train\n",
        "\n",
        "prediction_df['y_pred_train'].value_counts()\n",
        "prediction_df['y_train'].value_counts()"
      ],
      "execution_count": 71,
      "outputs": [
        {
          "output_type": "stream",
          "text": [
            "(143921,)\n",
            "(35981,)\n",
            "(20098,)\n"
          ],
          "name": "stdout"
        },
        {
          "output_type": "execute_result",
          "data": {
            "text/plain": [
              "0.0    103556\n",
              "Name: y_train, dtype: int64"
            ]
          },
          "metadata": {
            "tags": []
          },
          "execution_count": 71
        }
      ]
    },
    {
      "metadata": {
        "id": "0sI9mKw6zjSi",
        "colab_type": "code",
        "colab": {}
      },
      "cell_type": "code",
      "source": [
        "# params is based on following kernel https://www.kaggle.com/brandenkmurray/nothing-works\n",
        "params = {'objective' : \"binary\", \n",
        "               'boost':\"gbdt\",\n",
        "               'metric':\"auc\",\n",
        "               'boost_from_average':\"false\",\n",
        "               'num_threads':8,\n",
        "               'learning_rate' : 0.01,\n",
        "               'num_leaves' : 13,\n",
        "               'max_depth':-1,\n",
        "               'tree_learner' : \"serial\",\n",
        "               'feature_fraction' : 0.05,\n",
        "               'bagging_freq' : 5,\n",
        "               'bagging_fraction' : 0.4,\n",
        "               'min_data_in_leaf' : 80,\n",
        "               'min_sum_hessian_in_leaf' : 10.0,\n",
        "               'verbosity' : 1}"
      ],
      "execution_count": 0,
      "outputs": []
    },
    {
      "metadata": {
        "id": "xLc4bT1-1L_7",
        "colab_type": "code",
        "colab": {}
      },
      "cell_type": "code",
      "source": [
        "# for get better result chage fold_n to 5\n",
        "fold_n=5\n",
        "folds = StratifiedKFold(n_splits=fold_n, shuffle=True, random_state=10)\n",
        "%matplotlib inline\n",
        "%precision 4\n",
        "warnings.filterwarnings('ignore')\n",
        "plt.style.use('ggplot')\n",
        "np.set_printoptions(suppress=True)\n",
        "pd.set_option(\"display.precision\", 15)\n",
        "\n",
        "%time\n",
        "y_pred_lgb = np.zeros(len(X_test))\n",
        "num_round = 1000000\n",
        "for fold_n, (train_index, valid_index) in enumerate(folds.split(X,y)):\n",
        "    print('Fold', fold_n, 'started at', time.ctime())\n",
        "    X_train, X_valid = X.iloc[train_index], X.iloc[valid_index]\n",
        "    y_train, y_valid = y.iloc[train_index], y.iloc[valid_index]\n",
        "    \n",
        "    train_data = lgb.Dataset(X_train, label=y_train)\n",
        "    valid_data = lgb.Dataset(X_valid, label=y_valid)\n",
        "        \n",
        "    lgb_model = lgb.train(params,train_data,num_round,#change 20 to 2000\n",
        "                    valid_sets = [train_data, valid_data],verbose_eval=1000,early_stopping_rounds = 3500)##change 10 to 200\n",
        "            \n",
        "    y_pred_lgb += lgb_model.predict(X_test, num_iteration=lgb_model.best_iteration)/5"
      ],
      "execution_count": 0,
      "outputs": []
    },
    {
      "metadata": {
        "id": "fqT-PopF26d4",
        "colab_type": "code",
        "colab": {}
      },
      "cell_type": "code",
      "source": [
        ""
      ],
      "execution_count": 0,
      "outputs": []
    }
  ]
}